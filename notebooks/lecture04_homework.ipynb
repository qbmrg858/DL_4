{
 "cells": [
  {
   "cell_type": "markdown",
   "metadata": {
    "id": "MUWcdth_khfN"
   },
   "source": [
    "# 第4回講義 宿題"
   ]
  },
  {
   "cell_type": "markdown",
   "metadata": {
    "id": "gAjuP7I4lWyn"
   },
   "source": [
    "## 課題\n",
    "\n",
    "今Lessonで学んだことを元に，MNISTのファッション版 (Fashion MNIST，クラス数10) を多層パーセプトロンによって分類してみましょう．\n",
    "\n",
    "Fashion MNISTの詳細については以下のリンクを参考にしてください．\n",
    "\n",
    "Fashion MNIST: https://github.com/zalandoresearch/fashion-mnist"
   ]
  },
  {
   "cell_type": "markdown",
   "metadata": {
    "id": "Cpiz19GRlZ_9"
   },
   "source": [
    "### 目標値\n",
    "\n",
    "Accuracy 85%"
   ]
  },
  {
   "cell_type": "markdown",
   "metadata": {
    "id": "qSHeI_utleEN"
   },
   "source": [
    "### ルール\n",
    "\n",
    "\n",
    "- 訓練データは`x_train`， `t_train`，テストデータは`x_test`で与えられます．\n",
    "- 予測ラベルは one_hot表現ではなく0~9のクラスラベル で表してください．\n",
    "- **下のセルで指定されている`x_train`，`t_train`以外の学習データは使わないでください．**\n",
    "- Pytorchを利用して構いません．\n",
    "- ただし，**`torch.nn.Conv2d`のような高レベルのAPIは使用しないで下さい**．具体的には，`nn.Parameter`, `nn.Module`, `nn.Sequential`以外の`nn`系のAPIです．\n",
    "- torchvision等で既に実装されているモデルも使用しないで下さい．"
   ]
  },
  {
   "cell_type": "markdown",
   "metadata": {
    "id": "diuec-_YluI6"
   },
   "source": [
    "### 提出方法\n",
    "- 2つのファイルを提出していただきます．\n",
    "    1. テストデータ (`x_test`) に対する予測ラベルを`submission_pred.csv`として保存し，**Omnicampusの宿題タブから「第4回 ニューラルネットワークの最適化・正則化」を選択して**提出してください．\n",
    "    2. それに対応するpythonのコードを`submission_code.py`として保存し，**Omnicampusの宿題タブから「第4回 ニューラルネットワークの最適化・正則化 (code)」を選択して**提出してください．pythonファイル自体の提出ではなく，「提出内容」の部分にコードをコピー&ペーストしてください．\n",
    "      \n",
    "- なお，採点は1で行い，2はコードの確認用として利用します（成績優秀者はコード内容を公開させていただくかもしれません）．コードの内容を変更した場合は，**1と2の両方を提出し直してください**．"
   ]
  },
  {
   "cell_type": "markdown",
   "metadata": {
    "id": "hofSzJsVlvKp"
   },
   "source": [
    "### 評価方法\n",
    "- 予測ラベルの`t_test`に対する精度 (Accuracy) で評価します．\n",
    "- 即時採点しLeader Boardを更新します（採点スケジュールは別アナウンス）．\n",
    "- 締切時の点数を最終的な評価とします．"
   ]
  },
  {
   "cell_type": "markdown",
   "metadata": {
    "id": "ALYtPC5OjKFM"
   },
   "source": [
    "### ドライブのマウント"
   ]
  },
  {
   "cell_type": "code",
   "execution_count": null,
   "metadata": {
    "id": "efPoZs_KjKFM"
   },
   "outputs": [],
   "source": [
    "from google.colab import drive\n",
    "drive.mount('/content/drive')"
   ]
  },
  {
   "cell_type": "markdown",
   "metadata": {
    "id": "Cu4cmQtelx19"
   },
   "source": [
    "### データの読み込み（この部分は修正しないでください）\n",
    "\n",
    "`__len__`は，Pythonの組み込み関数len()を呼んだときに，内部で呼ばれる特殊メソッドです．\n",
    "\n",
    "`__getitem__`は，インデックスやキーで要素を取得するときに，内部で呼ばれる特殊メソッドです．\n",
    "\n",
    "どちらも， Datasetクラスを自作する際によく登場します．\n",
    "\n",
    "```python\n",
    "class MyList:\n",
    "    def __init__(self, data):\n",
    "        self.data = data\n",
    "\n",
    "    def __len__(self):\n",
    "        return len(self.data)\n",
    "\n",
    "    def __getitem__(self, index):\n",
    "        return self.data[index]\n",
    "\n",
    "mylist = MyList([10, 20, 30])\n",
    "print(len(mylist))  # __len__が呼び出される\n",
    "# 3\n",
    "print(mylist[1])  # __getitem__が呼び出される\n",
    "# 20\n",
    "```"
   ]
  },
  {
   "cell_type": "code",
   "execution_count": 19,
   "metadata": {
    "id": "EsLDDSUJkRx-"
   },
   "outputs": [],
   "source": [
    "import os\n",
    "import numpy as np\n",
    "import pandas as pd\n",
    "import torch\n",
    "import torch.nn as nn\n",
    "import torch.optim as optim\n",
    "import torch.autograd as autograd\n",
    "import inspect\n",
    "\n",
    "nn_except = [\"Module\", \"Parameter\", \"Sequential\"]\n",
    "for m in inspect.getmembers(nn):\n",
    "    if not m[0] in nn_except and m[0][0:2] != \"__\":\n",
    "        delattr(nn, m[0])\n",
    "\n",
    "seed = 1234\n",
    "torch.manual_seed(seed)\n",
    "np.random.seed(seed)\n",
    "\n",
    "device = torch.device(\"cuda\" if torch.cuda.is_available() else \"cpu\")\n",
    "\n",
    "#学習データ\n",
    "x_train = np.load('../data/x_train.npy')\n",
    "t_train = np.load('../data/y_train.npy')\n",
    "\n",
    "#テストデータ\n",
    "x_test = np.load('../data/x_test.npy')\n",
    "\n",
    "class train_dataset(torch.utils.data.Dataset):\n",
    "    def __init__(self, x_train, t_train):\n",
    "        self.x_train = x_train.reshape(-1, 784).astype('float32') / 255\n",
    "        self.t_train = t_train\n",
    "\n",
    "    def __len__(self):\n",
    "        return self.x_train.shape[0]\n",
    "\n",
    "    def __getitem__(self, idx):\n",
    "        return torch.tensor(self.x_train[idx], dtype=torch.float), torch.tensor(self.t_train[idx], dtype=torch.long)\n",
    "\n",
    "class test_dataset(torch.utils.data.Dataset):\n",
    "    def __init__(self, x_test):\n",
    "        self.x_test = x_test.reshape(-1, 784).astype('float32') / 255\n",
    "\n",
    "    def __len__(self):\n",
    "        return self.x_test.shape[0]\n",
    "\n",
    "    def __getitem__(self, idx):\n",
    "        return torch.tensor(self.x_test[idx], dtype=torch.float)\n",
    "\n",
    "trainval_data = train_dataset(x_train, t_train)\n",
    "test_data = test_dataset(x_test)"
   ]
  },
  {
   "cell_type": "markdown",
   "metadata": {
    "id": "UrSpHDIWOfK_"
   },
   "source": [
    "### 多層パーセプトロンの実装"
   ]
  },
  {
   "cell_type": "code",
   "execution_count": 20,
   "metadata": {
    "id": "sKAe0F36nSvU"
   },
   "outputs": [],
   "source": [
    "batch_size = 32\n",
    "\n",
    "val_size = 10000\n",
    "train_size = len(trainval_data) - val_size\n",
    "\n",
    "train_data, val_data = torch.utils.data.random_split(trainval_data, [train_size, val_size])\n",
    "\n",
    "dataloader_train = torch.utils.data.DataLoader(\n",
    "    train_data,\n",
    "    batch_size=batch_size,\n",
    "    shuffle=True\n",
    ")\n",
    "\n",
    "dataloader_valid = torch.utils.data.DataLoader(\n",
    "    val_data,\n",
    "    batch_size=batch_size,\n",
    "    shuffle=True\n",
    ")\n",
    "\n",
    "dataloader_test = torch.utils.data.DataLoader(\n",
    "    test_data,\n",
    "    batch_size=batch_size,\n",
    "    shuffle=False\n",
    ")"
   ]
  },
  {
   "cell_type": "code",
   "execution_count": 21,
   "metadata": {
    "id": "PADQiKNa2snb"
   },
   "outputs": [
    {
     "ename": "AttributeError",
     "evalue": "module 'torch.nn' has no attribute 'attention'",
     "output_type": "error",
     "traceback": [
      "\u001b[0;31m---------------------------------------------------------------------------\u001b[0m",
      "\u001b[0;31mAttributeError\u001b[0m                            Traceback (most recent call last)",
      "Cell \u001b[0;32mIn[21], line 40\u001b[0m\n\u001b[1;32m     36\u001b[0m n_epochs \u001b[38;5;241m=\u001b[39m \u001b[38;5;241m10\u001b[39m\n\u001b[1;32m     38\u001b[0m mlp \u001b[38;5;241m=\u001b[39m MLP(in_dim, hid_dim, out_dim)\u001b[38;5;241m.\u001b[39mto(device)\n\u001b[0;32m---> 40\u001b[0m optimizer \u001b[38;5;241m=\u001b[39m optim\u001b[38;5;241m.\u001b[39mSGD(mlp\u001b[38;5;241m.\u001b[39mparameters(), lr\u001b[38;5;241m=\u001b[39mlr)\n",
      "File \u001b[0;32m~/.pyenv/versions/anaconda3-2024.10-1/lib/python3.12/site-packages/torch/optim/sgd.py:63\u001b[0m, in \u001b[0;36mSGD.__init__\u001b[0;34m(self, params, lr, momentum, dampening, weight_decay, nesterov, maximize, foreach, differentiable, fused)\u001b[0m\n\u001b[1;32m     61\u001b[0m \u001b[38;5;28;01mif\u001b[39;00m nesterov \u001b[38;5;129;01mand\u001b[39;00m (momentum \u001b[38;5;241m<\u001b[39m\u001b[38;5;241m=\u001b[39m \u001b[38;5;241m0\u001b[39m \u001b[38;5;129;01mor\u001b[39;00m dampening \u001b[38;5;241m!=\u001b[39m \u001b[38;5;241m0\u001b[39m):\n\u001b[1;32m     62\u001b[0m     \u001b[38;5;28;01mraise\u001b[39;00m \u001b[38;5;167;01mValueError\u001b[39;00m(\u001b[38;5;124m\"\u001b[39m\u001b[38;5;124mNesterov momentum requires a momentum and zero dampening\u001b[39m\u001b[38;5;124m\"\u001b[39m)\n\u001b[0;32m---> 63\u001b[0m \u001b[38;5;28msuper\u001b[39m()\u001b[38;5;241m.\u001b[39m\u001b[38;5;21m__init__\u001b[39m(params, defaults)\n\u001b[1;32m     65\u001b[0m \u001b[38;5;28;01mif\u001b[39;00m fused:\n\u001b[1;32m     66\u001b[0m     \u001b[38;5;28mself\u001b[39m\u001b[38;5;241m.\u001b[39m_step_supports_amp_scaling \u001b[38;5;241m=\u001b[39m \u001b[38;5;28;01mTrue\u001b[39;00m\n",
      "File \u001b[0;32m~/.pyenv/versions/anaconda3-2024.10-1/lib/python3.12/site-packages/torch/optim/optimizer.py:369\u001b[0m, in \u001b[0;36mOptimizer.__init__\u001b[0;34m(self, params, defaults)\u001b[0m\n\u001b[1;32m    366\u001b[0m     param_groups \u001b[38;5;241m=\u001b[39m [{\u001b[38;5;124m\"\u001b[39m\u001b[38;5;124mparams\u001b[39m\u001b[38;5;124m\"\u001b[39m: param_groups}]\n\u001b[1;32m    368\u001b[0m \u001b[38;5;28;01mfor\u001b[39;00m param_group \u001b[38;5;129;01min\u001b[39;00m param_groups:\n\u001b[0;32m--> 369\u001b[0m     \u001b[38;5;28mself\u001b[39m\u001b[38;5;241m.\u001b[39madd_param_group(cast(\u001b[38;5;28mdict\u001b[39m, param_group))\n\u001b[1;32m    371\u001b[0m \u001b[38;5;66;03m# Allows _cuda_graph_capture_health_check to rig a poor man's TORCH_WARN_ONCE in python,\u001b[39;00m\n\u001b[1;32m    372\u001b[0m \u001b[38;5;66;03m# which I don't think exists\u001b[39;00m\n\u001b[1;32m    373\u001b[0m \u001b[38;5;66;03m# https://github.com/pytorch/pytorch/issues/72948\u001b[39;00m\n\u001b[1;32m    374\u001b[0m \u001b[38;5;28mself\u001b[39m\u001b[38;5;241m.\u001b[39m_warned_capturable_if_run_uncaptured \u001b[38;5;241m=\u001b[39m \u001b[38;5;28;01mTrue\u001b[39;00m\n",
      "File \u001b[0;32m~/.pyenv/versions/anaconda3-2024.10-1/lib/python3.12/site-packages/torch/_compile.py:46\u001b[0m, in \u001b[0;36m_disable_dynamo.<locals>.inner\u001b[0;34m(*args, **kwargs)\u001b[0m\n\u001b[1;32m     44\u001b[0m disable_fn \u001b[38;5;241m=\u001b[39m \u001b[38;5;28mgetattr\u001b[39m(fn, \u001b[38;5;124m\"\u001b[39m\u001b[38;5;124m__dynamo_disable\u001b[39m\u001b[38;5;124m\"\u001b[39m, \u001b[38;5;28;01mNone\u001b[39;00m)\n\u001b[1;32m     45\u001b[0m \u001b[38;5;28;01mif\u001b[39;00m disable_fn \u001b[38;5;129;01mis\u001b[39;00m \u001b[38;5;28;01mNone\u001b[39;00m:\n\u001b[0;32m---> 46\u001b[0m     \u001b[38;5;28;01mimport\u001b[39;00m \u001b[38;5;21;01mtorch\u001b[39;00m\u001b[38;5;21;01m.\u001b[39;00m\u001b[38;5;21;01m_dynamo\u001b[39;00m\n\u001b[1;32m     48\u001b[0m     disable_fn \u001b[38;5;241m=\u001b[39m torch\u001b[38;5;241m.\u001b[39m_dynamo\u001b[38;5;241m.\u001b[39mdisable(fn, recursive)\n\u001b[1;32m     49\u001b[0m     fn\u001b[38;5;241m.\u001b[39m__dynamo_disable \u001b[38;5;241m=\u001b[39m disable_fn  \u001b[38;5;66;03m# type: ignore[attr-defined]\u001b[39;00m\n",
      "File \u001b[0;32m~/.pyenv/versions/anaconda3-2024.10-1/lib/python3.12/site-packages/torch/_dynamo/__init__.py:13\u001b[0m\n\u001b[1;32m      1\u001b[0m \u001b[38;5;124;03m\"\"\"\u001b[39;00m\n\u001b[1;32m      2\u001b[0m \u001b[38;5;124;03mTorchDynamo is a Python-level JIT compiler designed to make unmodified PyTorch programs faster.\u001b[39;00m\n\u001b[1;32m      3\u001b[0m \u001b[38;5;124;03mTorchDynamo hooks into the frame evaluation API in CPython (PEP 523) to dynamically modify Python\u001b[39;00m\n\u001b[0;32m   (...)\u001b[0m\n\u001b[1;32m      8\u001b[0m \u001b[38;5;124;03mseamlessly optimize PyTorch programs, including those using modern Python features.\u001b[39;00m\n\u001b[1;32m      9\u001b[0m \u001b[38;5;124;03m\"\"\"\u001b[39;00m\n\u001b[1;32m     11\u001b[0m \u001b[38;5;28;01mimport\u001b[39;00m \u001b[38;5;21;01mtorch\u001b[39;00m\n\u001b[0;32m---> 13\u001b[0m \u001b[38;5;28;01mfrom\u001b[39;00m \u001b[38;5;21;01m.\u001b[39;00m \u001b[38;5;28;01mimport\u001b[39;00m config, convert_frame, eval_frame, resume_execution\n\u001b[1;32m     14\u001b[0m \u001b[38;5;28;01mfrom\u001b[39;00m \u001b[38;5;21;01m.\u001b[39;00m\u001b[38;5;21;01mbackends\u001b[39;00m\u001b[38;5;21;01m.\u001b[39;00m\u001b[38;5;21;01mregistry\u001b[39;00m \u001b[38;5;28;01mimport\u001b[39;00m list_backends, lookup_backend, register_backend\n\u001b[1;32m     15\u001b[0m \u001b[38;5;28;01mfrom\u001b[39;00m \u001b[38;5;21;01m.\u001b[39;00m\u001b[38;5;21;01mcallback\u001b[39;00m \u001b[38;5;28;01mimport\u001b[39;00m callback_handler, on_compile_end, on_compile_start\n",
      "File \u001b[0;32m~/.pyenv/versions/anaconda3-2024.10-1/lib/python3.12/site-packages/torch/_dynamo/convert_frame.py:52\u001b[0m\n\u001b[1;32m     50\u001b[0m \u001b[38;5;28;01mfrom\u001b[39;00m \u001b[38;5;21;01mtorch\u001b[39;00m\u001b[38;5;21;01m.\u001b[39;00m\u001b[38;5;21;01m_C\u001b[39;00m\u001b[38;5;21;01m.\u001b[39;00m\u001b[38;5;21;01m_dynamo\u001b[39;00m\u001b[38;5;21;01m.\u001b[39;00m\u001b[38;5;21;01mguards\u001b[39;00m \u001b[38;5;28;01mimport\u001b[39;00m GlobalStateGuard\n\u001b[1;32m     51\u001b[0m \u001b[38;5;28;01mfrom\u001b[39;00m \u001b[38;5;21;01mtorch\u001b[39;00m\u001b[38;5;21;01m.\u001b[39;00m\u001b[38;5;21;01m_dynamo\u001b[39;00m\u001b[38;5;21;01m.\u001b[39;00m\u001b[38;5;21;01mdistributed\u001b[39;00m \u001b[38;5;28;01mimport\u001b[39;00m get_compile_pg\n\u001b[0;32m---> 52\u001b[0m \u001b[38;5;28;01mfrom\u001b[39;00m \u001b[38;5;21;01mtorch\u001b[39;00m\u001b[38;5;21;01m.\u001b[39;00m\u001b[38;5;21;01m_dynamo\u001b[39;00m\u001b[38;5;21;01m.\u001b[39;00m\u001b[38;5;21;01msymbolic_convert\u001b[39;00m \u001b[38;5;28;01mimport\u001b[39;00m TensorifyState\n\u001b[1;32m     53\u001b[0m \u001b[38;5;28;01mfrom\u001b[39;00m \u001b[38;5;21;01mtorch\u001b[39;00m\u001b[38;5;21;01m.\u001b[39;00m\u001b[38;5;21;01m_guards\u001b[39;00m \u001b[38;5;28;01mimport\u001b[39;00m compile_context, CompileContext, CompileId, tracing\n\u001b[1;32m     54\u001b[0m \u001b[38;5;28;01mfrom\u001b[39;00m \u001b[38;5;21;01mtorch\u001b[39;00m\u001b[38;5;21;01m.\u001b[39;00m\u001b[38;5;21;01m_logging\u001b[39;00m \u001b[38;5;28;01mimport\u001b[39;00m structured\n",
      "File \u001b[0;32m~/.pyenv/versions/anaconda3-2024.10-1/lib/python3.12/site-packages/torch/_dynamo/symbolic_convert.py:52\u001b[0m\n\u001b[1;32m     50\u001b[0m \u001b[38;5;28;01mimport\u001b[39;00m \u001b[38;5;21;01mtorch\u001b[39;00m\n\u001b[1;32m     51\u001b[0m \u001b[38;5;28;01mimport\u001b[39;00m \u001b[38;5;21;01mtorch\u001b[39;00m\u001b[38;5;21;01m.\u001b[39;00m\u001b[38;5;21;01m_logging\u001b[39;00m\n\u001b[0;32m---> 52\u001b[0m \u001b[38;5;28;01mfrom\u001b[39;00m \u001b[38;5;21;01mtorch\u001b[39;00m\u001b[38;5;21;01m.\u001b[39;00m\u001b[38;5;21;01m_dynamo\u001b[39;00m\u001b[38;5;21;01m.\u001b[39;00m\u001b[38;5;21;01mexc\u001b[39;00m \u001b[38;5;28;01mimport\u001b[39;00m TensorifyScalarRestartAnalysis\n\u001b[1;32m     53\u001b[0m \u001b[38;5;28;01mfrom\u001b[39;00m \u001b[38;5;21;01mtorch\u001b[39;00m\u001b[38;5;21;01m.\u001b[39;00m\u001b[38;5;21;01m_guards\u001b[39;00m \u001b[38;5;28;01mimport\u001b[39;00m tracing, TracingContext\n\u001b[1;32m     54\u001b[0m \u001b[38;5;28;01mfrom\u001b[39;00m \u001b[38;5;21;01mtorch\u001b[39;00m\u001b[38;5;21;01m.\u001b[39;00m\u001b[38;5;21;01mfx\u001b[39;00m\u001b[38;5;21;01m.\u001b[39;00m\u001b[38;5;21;01mexperimental\u001b[39;00m\u001b[38;5;21;01m.\u001b[39;00m\u001b[38;5;21;01msymbolic_shapes\u001b[39;00m \u001b[38;5;28;01mimport\u001b[39;00m guard_bool\n",
      "File \u001b[0;32m~/.pyenv/versions/anaconda3-2024.10-1/lib/python3.12/site-packages/torch/_dynamo/exc.py:41\u001b[0m\n\u001b[1;32m     38\u001b[0m \u001b[38;5;28;01mimport\u001b[39;00m \u001b[38;5;21;01mtorch\u001b[39;00m\u001b[38;5;21;01m.\u001b[39;00m\u001b[38;5;21;01m_guards\u001b[39;00m\n\u001b[1;32m     40\u001b[0m \u001b[38;5;28;01mfrom\u001b[39;00m \u001b[38;5;21;01m.\u001b[39;00m \u001b[38;5;28;01mimport\u001b[39;00m config\n\u001b[0;32m---> 41\u001b[0m \u001b[38;5;28;01mfrom\u001b[39;00m \u001b[38;5;21;01m.\u001b[39;00m\u001b[38;5;21;01mutils\u001b[39;00m \u001b[38;5;28;01mimport\u001b[39;00m counters\n\u001b[1;32m     44\u001b[0m \u001b[38;5;28;01mif\u001b[39;00m TYPE_CHECKING:\n\u001b[1;32m     45\u001b[0m     \u001b[38;5;28;01mimport\u001b[39;00m \u001b[38;5;21;01mtypes\u001b[39;00m\n",
      "File \u001b[0;32m~/.pyenv/versions/anaconda3-2024.10-1/lib/python3.12/site-packages/torch/_dynamo/utils.py:2236\u001b[0m\n\u001b[1;32m   2214\u001b[0m     fn\u001b[38;5;241m.\u001b[39m\u001b[38;5;18m__name__\u001b[39m \u001b[38;5;241m=\u001b[39m \u001b[38;5;124mf\u001b[39m\u001b[38;5;124m\"\u001b[39m\u001b[38;5;124mrot_\u001b[39m\u001b[38;5;132;01m{\u001b[39;00mn\u001b[38;5;132;01m}\u001b[39;00m\u001b[38;5;124m_helper\u001b[39m\u001b[38;5;124m\"\u001b[39m\n\u001b[1;32m   2215\u001b[0m     \u001b[38;5;28;01mreturn\u001b[39;00m fn\n\u001b[1;32m   2218\u001b[0m common_constant_types: \u001b[38;5;28mset\u001b[39m[\u001b[38;5;28mtype\u001b[39m] \u001b[38;5;241m=\u001b[39m {\n\u001b[1;32m   2219\u001b[0m     \u001b[38;5;28mint\u001b[39m,\n\u001b[1;32m   2220\u001b[0m     \u001b[38;5;28mfloat\u001b[39m,\n\u001b[1;32m   2221\u001b[0m     \u001b[38;5;28mcomplex\u001b[39m,\n\u001b[1;32m   2222\u001b[0m     \u001b[38;5;28mbool\u001b[39m,\n\u001b[1;32m   2223\u001b[0m     \u001b[38;5;28mstr\u001b[39m,\n\u001b[1;32m   2224\u001b[0m     \u001b[38;5;28mbytes\u001b[39m,\n\u001b[1;32m   2225\u001b[0m     \u001b[38;5;28mtype\u001b[39m(\u001b[38;5;28;01mNone\u001b[39;00m),\n\u001b[1;32m   2226\u001b[0m     \u001b[38;5;28mEllipsis\u001b[39m\u001b[38;5;241m.\u001b[39m\u001b[38;5;18m__class__\u001b[39m,\n\u001b[1;32m   2227\u001b[0m     \u001b[38;5;28mNotImplemented\u001b[39m\u001b[38;5;241m.\u001b[39m\u001b[38;5;18m__class__\u001b[39m,\n\u001b[1;32m   2228\u001b[0m     types\u001b[38;5;241m.\u001b[39mCodeType,\n\u001b[1;32m   2229\u001b[0m     \u001b[38;5;66;03m# Commonly used immutable types from torch.\u001b[39;00m\n\u001b[1;32m   2230\u001b[0m     torch\u001b[38;5;241m.\u001b[39mdevice,\n\u001b[1;32m   2231\u001b[0m     torch\u001b[38;5;241m.\u001b[39mdtype,\n\u001b[1;32m   2232\u001b[0m     torch\u001b[38;5;241m.\u001b[39mmemory_format,\n\u001b[1;32m   2233\u001b[0m     torch\u001b[38;5;241m.\u001b[39mlayout,\n\u001b[1;32m   2234\u001b[0m     torch\u001b[38;5;241m.\u001b[39mfinfo,\n\u001b[1;32m   2235\u001b[0m     torch\u001b[38;5;241m.\u001b[39miinfo,\n\u001b[0;32m-> 2236\u001b[0m     torch\u001b[38;5;241m.\u001b[39mnn\u001b[38;5;241m.\u001b[39mattention\u001b[38;5;241m.\u001b[39mSDPBackend,\n\u001b[1;32m   2237\u001b[0m     torch\u001b[38;5;241m.\u001b[39mcuda\u001b[38;5;241m.\u001b[39m_CudaDeviceProperties,\n\u001b[1;32m   2238\u001b[0m }\n\u001b[1;32m   2240\u001b[0m \u001b[38;5;28;01mif\u001b[39;00m has_triton_package():\n\u001b[1;32m   2241\u001b[0m     \u001b[38;5;28;01mimport\u001b[39;00m \u001b[38;5;21;01mtriton\u001b[39;00m\n",
      "\u001b[0;31mAttributeError\u001b[0m: module 'torch.nn' has no attribute 'attention'"
     ]
    }
   ],
   "source": [
    "def relu(x):\n",
    "    return torch.where(x > 0, x, torch.zeros_like(x))\n",
    "\n",
    "def softmax(x):\n",
    "    x_max = x.max(dim=1, keepdim=True)[0]\n",
    "    exp_x = torch.exp(x - x_max)\n",
    "    return exp_x / exp_x.sum(dim=1, keepdim=True)\n",
    "\n",
    "\n",
    "class Dense(nn.Module):\n",
    "    def __init__(self, in_dim, out_dim):\n",
    "        super().__init__()\n",
    "        # 重みとバイアスをパラメータとして定義\n",
    "        self.W = nn.Parameter(torch.randn(in_dim, out_dim) * 0.01)\n",
    "        self.b = nn.Parameter(torch.zeros(out_dim))\n",
    "\n",
    "    def forward(self, x):\n",
    "        # x: (batch, in_dim)\n",
    "        # 出力: (batch, out_dim)\n",
    "        return x.matmul(self.W) + self.b\n",
    "\n",
    "class MLP(nn.Module):\n",
    "    def __init__(self, in_dim, hid_dim, out_dim):\n",
    "        super().__init__()\n",
    "        self.l1 = Dense(in_dim, hid_dim)\n",
    "        self.l2 = Dense(hid_dim, out_dim)\n",
    "\n",
    "    def forward(self, x):\n",
    "        h = relu(self.l1(x))\n",
    "        y = softmax(self.l2(h))\n",
    "        return y\n",
    "in_dim = 784\n",
    "hid_dim = 200\n",
    "out_dim = 10\n",
    "lr = 0.001\n",
    "n_epochs = 10\n",
    "\n",
    "mlp = MLP(in_dim, hid_dim, out_dim).to(device)\n",
    "\n",
    "optimizer = optim.SGD(mlp.parameters(), lr=lr)"
   ]
  },
  {
   "cell_type": "code",
   "execution_count": null,
   "metadata": {
    "id": "nlOZuLu-328i"
   },
   "outputs": [],
   "source": [
    "for epoch in range(n_epochs):\n",
    "    losses_train = []\n",
    "    losses_valid = []\n",
    "    train_num = 0\n",
    "    train_true_num = 0\n",
    "    valid_num = 0\n",
    "    valid_true_num = 0\n",
    "\n",
    "    mlp.train()  # 訓練時には勾配を計算するtrainモードにする\n",
    "    for x, t in dataloader_train:\n",
    "        # WRITE ME\n",
    "\n",
    "        losses_train.append(loss.tolist())\n",
    "\n",
    "        acc = torch.where(t - pred.to(\"cpu\") == 0, torch.ones_like(t), torch.zeros_like(t))\n",
    "        train_num += acc.size()[0]\n",
    "        train_true_num += acc.sum().item()\n",
    "\n",
    "    mlp.eval()  # 評価時には勾配を計算しないevalモードにする\n",
    "    for x, t in dataloader_valid:\n",
    "        # WRITE ME\n",
    "\n",
    "        losses_valid.append(loss.tolist())\n",
    "\n",
    "        acc = torch.where(t - pred.to(\"cpu\") == 0, torch.ones_like(t), torch.zeros_like(t))\n",
    "        valid_num += acc.size()[0]\n",
    "        valid_true_num += acc.sum().item()\n",
    "\n",
    "    print('EPOCH: {}, Train [Loss: {:.3f}, Accuracy: {:.3f}], Valid [Loss: {:.3f}, Accuracy: {:.3f}]'.format(\n",
    "        epoch,\n",
    "        np.mean(losses_train),\n",
    "        train_true_num/train_num,\n",
    "        np.mean(losses_valid),\n",
    "        valid_true_num/valid_num\n",
    "    ))"
   ]
  },
  {
   "cell_type": "code",
   "execution_count": null,
   "metadata": {
    "id": "Yq3scS5j4Rt2"
   },
   "outputs": [],
   "source": [
    "mlp.eval()\n",
    "\n",
    "t_pred = []\n",
    "for x in dataloader_test:\n",
    "\n",
    "    x = x.to(device)\n",
    "\n",
    "    # 順伝播\n",
    "    y = mlp.forward(x)\n",
    "\n",
    "    # モデルの出力を予測値のスカラーに変換\n",
    "    pred = y.argmax(1).tolist()\n",
    "\n",
    "    t_pred.extend(pred)\n",
    "\n",
    "submission = pd.Series(t_pred, name='label')\n",
    "submission.to_csv('drive/MyDrive/Colab Notebooks/DLBasics2025_colab/Lecture04/submission_pred.csv', header=True, index_label='id')"
   ]
  }
 ],
 "metadata": {
  "accelerator": "GPU",
  "colab": {
   "provenance": [],
   "toc_visible": true
  },
  "kernelspec": {
   "display_name": "base",
   "language": "python",
   "name": "python3"
  },
  "language_info": {
   "codemirror_mode": {
    "name": "ipython",
    "version": 3
   },
   "file_extension": ".py",
   "mimetype": "text/x-python",
   "name": "python",
   "nbconvert_exporter": "python",
   "pygments_lexer": "ipython3",
   "version": "3.12.7"
  }
 },
 "nbformat": 4,
 "nbformat_minor": 0
}
